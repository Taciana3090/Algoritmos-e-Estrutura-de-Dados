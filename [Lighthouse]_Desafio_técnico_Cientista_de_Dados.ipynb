{
  "nbformat": 4,
  "nbformat_minor": 0,
  "metadata": {
    "colab": {
      "provenance": [],
      "authorship_tag": "ABX9TyM69QcJRAviuBvfuqiJ0VY+",
      "include_colab_link": true
    },
    "kernelspec": {
      "name": "python3",
      "display_name": "Python 3"
    },
    "language_info": {
      "name": "python"
    }
  },
  "cells": [
    {
      "cell_type": "markdown",
      "metadata": {
        "id": "view-in-github",
        "colab_type": "text"
      },
      "source": [
        "<a href=\"https://colab.research.google.com/github/Taciana3090/Algoritmos-e-Estrutura-de-Dados/blob/main/%5BLighthouse%5D_Desafio_t%C3%A9cnico_Cientista_de_Dados.ipynb\" target=\"_parent\"><img src=\"https://colab.research.google.com/assets/colab-badge.svg\" alt=\"Open In Colab\"/></a>"
      ]
    },
    {
      "cell_type": "markdown",
      "source": [
        "### Desafio - Cientista de Dados\n",
        "\n",
        "Você foi alocado em um time da Indicium contratado por um estúdio de Hollywood chamado PProductions, e agora deve fazer uma análise em cima de um banco de dados cinematográfico para orientar qual tipo de filme deve ser o próximo a ser desenvolvido. Lembre-se que há muito dinheiro envolvido, então a análise deve ser muito detalhada e levar em consideração o máximo de fatores possíveis (a introdução de dados externos é permitida - e encorajada).\n",
        "\n",
        "#### Entregas\n",
        "\n",
        "\n",
        "1.\tFaça uma análise exploratória dos dados (EDA), demonstrando as principais características entre as variáveis e apresentando algumas hipóteses relacionadas. Seja criativo!\n",
        "\n",
        "2.\tResponda também às seguintes perguntas:\n",
        "a.\tQual filme você recomendaria para uma pessoa que você não conhece?\n",
        "b.\tQuais são os principais fatores que estão relacionados com alta expectativa de faturamento de um filme?\n",
        "c.\tQuais insights podem ser tirados com a coluna Overview? É possível inferir o gênero do filme a partir dessa coluna?\n",
        "\n",
        "3.\tExplique como você faria a previsão da nota do imdb a partir dos dados. Quais variáveis e/ou suas transformações você utilizou e por quê? Qual tipo de problema estamos resolvendo (regressão, classificação)? Qual modelo melhor se aproxima dos dados e quais seus prós e contras? Qual medida de performance do modelo foi escolhida e por quê?\n",
        "\n",
        "4.\tSupondo um filme com as seguintes características:\n",
        "\n",
        "  {'Series_Title': 'The Shawshank Redemption',\n",
        "\n",
        "  'Released_Year': '1994',\n",
        "\n",
        "  'Certificate': 'A',\n",
        "\n",
        "  'Runtime': '142 min',\n",
        "\n",
        "  'Genre': 'Drama',\n",
        "\n",
        "  'Overview': 'Two imprisoned men bond over a number of years, finding solace and eventual redemption through acts of common decency.',\n",
        "\n",
        "  'Meta_score': 80.0,\n",
        "\n",
        "  'Director': 'Frank Darabont',\n",
        "\n",
        "  'Star1': 'Tim Robbins',\n",
        "\n",
        "  'Star2': 'Morgan Freeman',\n",
        "\n",
        "  'Star3': 'Bob Gunton',\n",
        "\n",
        "  'Star4': 'William Sadler',\n",
        "\n",
        "  'No_of_Votes': 2343110,\n",
        "  \n",
        "  'Gross': '28,341,469'}\n",
        "\n",
        "    Qual seria a nota do IMDB?\n",
        "\n",
        "5.\tSalve o modelo desenvolvido no formato .pkl.\n",
        "\n",
        "6.\tA entrega deve ser feita através de um repositório de código público que contenha:\n",
        "a.\tREADME explicando como instalar e executar o projeto\n",
        "b.\tArquivo de requisitos com todos os pacotes utilizados e suas versões\n",
        "c.\tRelatórios das análises estatísticas e EDA em PDF, Jupyter Notebook ou semelhante conforme passo 1 e 2.\n",
        "d.\tCódigos de modelagem utilizados no passo 3 (pode ser entregue no mesmo Jupyter Notebook).\n",
        "e.\tArquivo .pkl conforme passo 5 acima.\n",
        "Todos os códigos produzidos devem seguir as boas práticas de codificação.\n"
      ],
      "metadata": {
        "id": "2AK2LGDamrqU"
      }
    },
    {
      "cell_type": "code",
      "source": [],
      "metadata": {
        "id": "gHOiReJEm42q"
      },
      "execution_count": null,
      "outputs": []
    }
  ]
}